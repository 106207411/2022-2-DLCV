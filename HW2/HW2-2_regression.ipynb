{
 "cells": [
  {
   "cell_type": "markdown",
   "metadata": {
    "id": "VSoklTpd64He"
   },
   "source": [
    "## Homework 02-2: due 2022/03/31 23:59 (70%)\n",
    "\n",
    "### - Tutorial : https://machinelearningmastery.com/pytorch-tutorial-develop-deep-learning-models/\n",
    "\n",
    "### - After you go through the tutorials, you should be able to work on this assignment.\n",
    "\n",
    "### - Please answer the following questions and work directly on this jupyter notebook.\n",
    "\n",
    "### - Make sure the code can be run and show the result and figures properly.\n",
    "\n",
    "### - Please write down your observation with markdown in this notebook briefly.\n",
    "\n"
   ]
  },
  {
   "cell_type": "markdown",
   "metadata": {
    "id": "Qz9X8m2NJwdj"
   },
   "source": [
    "#### You will train a regression model in this part. The data is **Concrete Compressive Strength Dataset**, you can find the details of each column at https://archive.ics.uci.edu/ml/datasets/concrete+compressive+strength. In this part, please predict the **strength of concrete**."
   ]
  },
  {
   "cell_type": "code",
   "execution_count": 35,
   "metadata": {
    "id": "gFMwtIeAJwdj"
   },
   "outputs": [],
   "source": [
    "# Import necessory modules\n",
    "%matplotlib inline\n",
    "import pandas as pd\n",
    "import numpy as np\n",
    "import random\n",
    "import torch\n",
    "import torch.nn as nn\n",
    "import torch.optim as optim\n",
    "from torch.utils.data import Dataset, DataLoader, random_split\n",
    "import matplotlib.pyplot as plt\n",
    "from tqdm.notebook import tqdm\n",
    "from sklearn.preprocessing import MinMaxScaler"
   ]
  },
  {
   "cell_type": "code",
   "execution_count": 65,
   "metadata": {
    "id": "BpSVExq8Jwdl"
   },
   "outputs": [],
   "source": [
    "# For reproduce the result\n",
    "torch.manual_seed(0)\n",
    "random.seed(0)\n",
    "np.random.seed(0)"
   ]
  },
  {
   "cell_type": "markdown",
   "metadata": {
    "id": "fFN95MvCJwdl"
   },
   "source": [
    "### 1. Define the model and dataset (10%)"
   ]
  },
  {
   "cell_type": "markdown",
   "metadata": {
    "id": "o1xJhvMbJwdm"
   },
   "source": [
    "#### 1.1 Please follow the tutorial to create a class ***ConcreteDataset***, for loading the data you need and also do the ***Min-Max scaling*** to the ***feature and label***. (5%)"
   ]
  },
  {
   "cell_type": "code",
   "execution_count": 66,
   "metadata": {
    "id": "f6qRprzVJwdm"
   },
   "outputs": [],
   "source": [
    "class ConcreteDataset(Dataset):\n",
    "    def __init__(self, path):\n",
    "        # read X and y\n",
    "        df = pd.read_csv(path)\n",
    "        self.X = df.iloc[:, :-1].values.astype('float32')\n",
    "        self.y = df.iloc[:, -1].values.astype('float32')\n",
    "        # min-max normalization\n",
    "        self.scalerX = MinMaxScaler()\n",
    "        self.scalery = MinMaxScaler()\n",
    "        self.X = self.scalerX.fit_transform(self.X)\n",
    "        self.y = self.scalery.fit_transform(self.y.reshape(-1, 1))\n",
    "\n",
    "    # number of rows in the dataset\n",
    "    def __len__(self):\n",
    "        return len(self.X)\n",
    "    \n",
    "    # get a row at an index\n",
    "    def __getitem__(self, idx):\n",
    "        return self.X[idx], self.y[idx]       "
   ]
  },
  {
   "cell_type": "markdown",
   "metadata": {
    "id": "VVC7FOQkJwdn"
   },
   "source": [
    "#### 1.2 By following the tutorial, try to create a class ***MLP(Neural Network)*** with ***three hidden layers*** as your network architecture. Also, for the convenience of implementation, please set the numbers of hidden nodes and the activation functions as input variables to the foward functions.(5%) "
   ]
  },
  {
   "cell_type": "code",
   "execution_count": 67,
   "metadata": {
    "id": "vWPTZrVdJwdo"
   },
   "outputs": [],
   "source": [
    "class MLP(nn.Module):\n",
    "    def __init__(self, n_inputs, node_layer1, node_layer2, node_layer3, activation, act_output):\n",
    "        super(MLP, self).__init__()\n",
    "        self.model = nn.Sequential(\n",
    "            nn.Linear(n_inputs, node_layer1),\n",
    "            activation,\n",
    "            nn.Linear(node_layer1, node_layer2),\n",
    "            activation,\n",
    "            nn.Linear(node_layer2, node_layer3),\n",
    "            activation,\n",
    "            nn.Linear(node_layer3, 1),\n",
    "            act_output\n",
    "        )\n",
    "        \n",
    "    def forward(self, X):\n",
    "        return self.model(X)"
   ]
  },
  {
   "cell_type": "markdown",
   "metadata": {
    "id": "VPm02AdTJwdp"
   },
   "source": [
    "### 2. Train the model (60%)"
   ]
  },
  {
   "cell_type": "markdown",
   "metadata": {
    "id": "LxwWJdZkJwdq"
   },
   "source": [
    "#### 2.1 Please load the ***train.csv/ validation.csv*** in ./data, and turn them into dataloader with batch size 64 and determine whether shuffle or not. (5%)"
   ]
  },
  {
   "cell_type": "code",
   "execution_count": 68,
   "metadata": {},
   "outputs": [],
   "source": [
    "train_dataset = ConcreteDataset('./data/train.csv')\n",
    "val_dataset = ConcreteDataset('./data/validation.csv')\n",
    "# https://pytorch.org/docs/stable/data.html#torch.utils.data.DataLoader\n",
    "# DataLoader can be enumerated, yielding one batch worth of samples each iteration.\n",
    "train_dl = DataLoader(train_dataset, batch_size=64, shuffle=True)\n",
    "val_dl = DataLoader(val_dataset, batch_size=64, shuffle=False)"
   ]
  },
  {
   "cell_type": "markdown",
   "metadata": {
    "id": "rK_23b6YJwdu",
    "tags": []
   },
   "source": [
    "#### 2.2 Create two MLP model from the table below and ***print the model*** (10%):\n",
    "| | Hidden Layer 1| Hidden Layer 2| Hidden Layer 3| Activation in each hidden nodes | Activation for output |\n",
    "|:---:|:---:|:---:|:---:|:---:|:---:|\n",
    "|***Model1***| 256 | 64 | 8 | Tanh | Tanh |\n",
    "|***Model2***| 64 | 16 | 8 | Tanh | Identity |"
   ]
  },
  {
   "cell_type": "code",
   "execution_count": 40,
   "metadata": {},
   "outputs": [
    {
     "name": "stdout",
     "output_type": "stream",
     "text": [
      "Model1:\n",
      "MLP(\n",
      "  (model): Sequential(\n",
      "    (0): Linear(in_features=8, out_features=256, bias=True)\n",
      "    (1): Tanh()\n",
      "    (2): Linear(in_features=256, out_features=64, bias=True)\n",
      "    (3): Tanh()\n",
      "    (4): Linear(in_features=64, out_features=8, bias=True)\n",
      "    (5): Tanh()\n",
      "    (6): Linear(in_features=8, out_features=1, bias=True)\n",
      "    (7): Tanh()\n",
      "  )\n",
      ")\n",
      "Model2:\n",
      "MLP(\n",
      "  (model): Sequential(\n",
      "    (0): Linear(in_features=8, out_features=64, bias=True)\n",
      "    (1): Tanh()\n",
      "    (2): Linear(in_features=64, out_features=16, bias=True)\n",
      "    (3): Tanh()\n",
      "    (4): Linear(in_features=16, out_features=8, bias=True)\n",
      "    (5): Tanh()\n",
      "    (6): Linear(in_features=8, out_features=1, bias=True)\n",
      "    (7): Identity()\n",
      "  )\n",
      ")\n"
     ]
    }
   ],
   "source": [
    "models = {\"Model1\": MLP(n_inputs=8, node_layer1=256, node_layer2=64, node_layer3=8, activation=nn.Tanh(), act_output=nn.Tanh()),\n",
    "            \"Model2\": MLP(n_inputs=8, node_layer1=64, node_layer2=16, node_layer3=8, activation=nn.Tanh(), act_output=nn.Identity()),\n",
    "}\n",
    "for name, model in models.items():\n",
    "    print(f\"{name}:\\n{model}\")"
   ]
  },
  {
   "cell_type": "markdown",
   "metadata": {
    "id": "r_BjKmc1Jwdv"
   },
   "source": [
    "#### 2.3 Train the above two models with the same hyperpameters below and do the validation in every epoch. Choose the appropriate type of loss function according to the task. (25%)\n",
    "##### (Note. You should record the training/validation loss every epoch)"
   ]
  },
  {
   "cell_type": "markdown",
   "metadata": {
    "id": "uibgj0BQJwdv"
   },
   "source": [
    "\n",
    "| | Learning rate | epochs | optimizer | momentum |\n",
    "|:---:|:---:|:---:|:---:|:---:|\n",
    "|***Hyperparameter***| 0.01 | 300 | SGD | 0.9 |"
   ]
  },
  {
   "cell_type": "code",
   "execution_count": 41,
   "metadata": {},
   "outputs": [
    {
     "data": {
      "application/vnd.jupyter.widget-view+json": {
       "model_id": "73be3cdb4d8a4345869d950a00af4ca1",
       "version_major": 2,
       "version_minor": 0
      },
      "text/plain": [
       "  0%|          | 0/300 [00:00<?, ?it/s]"
      ]
     },
     "metadata": {},
     "output_type": "display_data"
    },
    {
     "data": {
      "application/vnd.jupyter.widget-view+json": {
       "model_id": "021b7b7342e542a2b6770abdb2ede1eb",
       "version_major": 2,
       "version_minor": 0
      },
      "text/plain": [
       "  0%|          | 0/300 [00:00<?, ?it/s]"
      ]
     },
     "metadata": {},
     "output_type": "display_data"
    }
   ],
   "source": [
    "def train_and_val(models, train_dl, val_dl, momentum=0.9, criterion=nn.MSELoss(), epochs=300, learning_rate=0.01, save_model=False):\n",
    "    epoch_loss = {}\n",
    "\n",
    "    for name, model in models.items():\n",
    "        epoch_loss[name] = {\"Training Loss\": [], \"Validation Loss\": []}\n",
    "        optimizer = optim.SGD(models[name].parameters(), lr=learning_rate, momentum=momentum)\n",
    "        \n",
    "        for epoch in tqdm(range(epochs)):\n",
    "            train_loss, val_loss = [], []\n",
    "\n",
    "            # enumerate mini-batches\n",
    "            for X, y in train_dl:\n",
    "                # clear the gradients\n",
    "                optimizer.zero_grad()\n",
    "                y_pred = model(X)\n",
    "                # compute the loss\n",
    "                loss = criterion(y_pred, y)\n",
    "                # compute the gradients\n",
    "                loss.backward()\n",
    "                # update model parameters\n",
    "                optimizer.step()\n",
    "                train_loss.append(loss.item())\n",
    "\n",
    "            for X, y in val_dl:\n",
    "                y_pred = model(X)\n",
    "                loss = criterion(y_pred, y)\n",
    "                val_loss.append(loss.item())\n",
    "\n",
    "            epoch_loss[name][\"Training Loss\"].append(sum(train_loss)/len(train_loss))\n",
    "            epoch_loss[name][\"Validation Loss\"].append(sum(val_loss)/len(val_loss))\n",
    "\n",
    "            # https://blog.csdn.net/weixin_40522801/article/details/106563354\n",
    "            if save_model:\n",
    "                torch.save(model.state_dict(), f\"{name}.pth\")\n",
    "\n",
    "    return epoch_loss\n",
    "epoch_loss = train_and_val(models, train_dl, val_dl)"
   ]
  },
  {
   "cell_type": "markdown",
   "metadata": {
    "id": "5C9_OteKJwdv"
   },
   "source": [
    "#### 2.4 Please include the plot that shows how the training/validation loss vary with the training epoch. Show the plots using the above two models and write down the observation. (5%)\n",
    "##### Here is the example figure\n",
    "![train_ex.png](https://github.com/tingyan08/Deep-Learning-and-Computer-Vision/blob/main/HW2/img/HW2-2.png?raw=true)"
   ]
  },
  {
   "cell_type": "code",
   "execution_count": 43,
   "metadata": {},
   "outputs": [
    {
     "data": {
      "image/png": "[encoded data removed]",
      "text/plain": [
       "<Figure size 1152x432 with 2 Axes>"
      ]
     },
     "metadata": {
      "needs_background": "light"
     },
     "output_type": "display_data"
    }
   ],
   "source": [
    "def draw_loss(epoch_loss):\n",
    "    fig, ax = plt.subplots(1, 2, figsize=(16, 6))\n",
    "    for i, (name, model) in enumerate(models.items()):\n",
    "        ax[i].plot(epoch_loss[name][\"Training Loss\"], label=\"Training Loss\")\n",
    "        ax[i].plot(epoch_loss[name][\"Validation Loss\"], label=\"Validation Loss\")\n",
    "        ax[i].set_xlabel(\"Epoch\")\n",
    "        ax[i].set_ylabel(\"Loss\")\n",
    "        ax[i].set_title(f\"{name} Loss\")\n",
    "        ax[i].legend()\n",
    "    plt.show()\n",
    "    \n",
    "draw_loss(epoch_loss)"
   ]
  },
  {
   "cell_type": "markdown",
   "metadata": {},
   "source": [
    "- Overfitting happened roughly at the epoch 50 in both models, as the validation loss gradually increased and the training loss continously decreased. We could do early stopping or set a relatively lower epoch to train the model as below."
   ]
  },
  {
   "cell_type": "markdown",
   "metadata": {},
   "source": [
    "#### 2.5 From the observation of the previous question, please determine an appropriate epoch and retrain the two models to avoid overfitting. Also, draw the loss plot of two models and save the last model as ***model1.pth*** and ***model2.pth***. (10%)\n",
    "##### (Note. You should reload the models and the optimizer, otherwise, you will resume from the previous stop.)"
   ]
  },
  {
   "cell_type": "code",
   "execution_count": 72,
   "metadata": {},
   "outputs": [
    {
     "data": {
      "application/vnd.jupyter.widget-view+json": {
       "model_id": "7ab4c5e74c674133bd29eebb0a97b694",
       "version_major": 2,
       "version_minor": 0
      },
      "text/plain": [
       "  0%|          | 0/50 [00:00<?, ?it/s]"
      ]
     },
     "metadata": {},
     "output_type": "display_data"
    },
    {
     "data": {
      "application/vnd.jupyter.widget-view+json": {
       "model_id": "24d9218c9ca94d088663c3b534fcde27",
       "version_major": 2,
       "version_minor": 0
      },
      "text/plain": [
       "  0%|          | 0/50 [00:00<?, ?it/s]"
      ]
     },
     "metadata": {},
     "output_type": "display_data"
    },
    {
     "data": {
      "image/png": "[encoded data removed]",
      "text/plain": [
       "<Figure size 1152x432 with 2 Axes>"
      ]
     },
     "metadata": {
      "needs_background": "light"
     },
     "output_type": "display_data"
    }
   ],
   "source": [
    "train_dataset = ConcreteDataset('./data/train.csv')\n",
    "val_dataset = ConcreteDataset('./data/validation.csv')\n",
    "train_dl = DataLoader(train_dataset, batch_size=64, shuffle=True)\n",
    "val_dl = DataLoader(val_dataset, batch_size=64, shuffle=False)\n",
    "models = {\"Model1\": MLP(n_inputs=8, node_layer1=256, node_layer2=64, node_layer3=8, activation=nn.Tanh(), act_output=nn.Tanh()),\n",
    "            \"Model2\": MLP(n_inputs=8, node_layer1=64, node_layer2=16, node_layer3=8, activation=nn.Tanh(), act_output=nn.Identity()),\n",
    "}\n",
    "epoch_loss = train_and_val(models, train_dl, val_dl, epochs=50, save_model=True)\n",
    "draw_loss(epoch_loss)"
   ]
  },
  {
   "cell_type": "markdown",
   "metadata": {
    "id": "Gj7T-StIJwdw",
    "tags": []
   },
   "source": [
    "#### 2.6 Please load the checkpoints saved from previous question and calculate the mean squared error on test dataset for two models respectively. Also, make a dataframe with target and prediction like below and save it as ***regression.csv*** (5%)\n",
    "|Target|Model1|Model2|\n",
    "|:---:|:---:|:---:|\n",
    "|24.05|26.35|27.04|\n",
    "|21.67|32.78|21.95|"
   ]
  },
  {
   "cell_type": "code",
   "execution_count": 91,
   "metadata": {},
   "outputs": [
    {
     "name": "stdout",
     "output_type": "stream",
     "text": [
      "Model1 MSE: 108.7412\n",
      "Model2 MSE: 122.8780\n"
     ]
    }
   ],
   "source": [
    "from sklearn.metrics import mean_squared_error\n",
    "\n",
    "def evaluate(models, test_dataset):\n",
    "    test_dl = DataLoader(test_dataset, batch_size=len(test_dataset), shuffle=False)\n",
    "    table = {}\n",
    "\n",
    "    for name, model in models.items():   \n",
    "        model.load_state_dict(torch.load(f\"{name}.pth\"))\n",
    "        model.eval()\n",
    "\n",
    "        for X, y in test_dl:\n",
    "            # predict on the test set\n",
    "            y_pred = model(X)\n",
    "            y_pred = test_dataset.scalery.inverse_transform(y_pred.detach().numpy())\n",
    "            y = test_dataset.scalery.inverse_transform(y.detach().numpy())\n",
    "            # compute the MSE\n",
    "            mse = mean_squared_error(y, y_pred)\n",
    "            print(f\"{name} MSE: {mse:.4f}\")\n",
    "\n",
    "            # save predictions and targets in a table\n",
    "            table[\"Target\"] = y.flatten()\n",
    "            table[name] = y_pred.flatten()\n",
    "\n",
    "    # save the table in a csv file\n",
    "    pd.DataFrame(table).to_csv(\"regression.csv\", index=False)\n",
    "\n",
    "test_dataset = ConcreteDataset('./data/test.csv')\n",
    "models = {\"Model1\": MLP(n_inputs=8, node_layer1=256, node_layer2=64, node_layer3=8, activation=nn.Tanh(), act_output=nn.Tanh()),\n",
    "            \"Model2\": MLP(n_inputs=8, node_layer1=64, node_layer2=16, node_layer3=8, activation=nn.Tanh(), act_output=nn.Identity()),\n",
    "}\n",
    "evaluate(models, test_dataset)"
   ]
  },
  {
   "cell_type": "code",
   "execution_count": 92,
   "metadata": {},
   "outputs": [
    {
     "data": {
      "text/html": [
       "<div>\n",
       "<style scoped>\n",
       "    .dataframe tbody tr th:only-of-type {\n",
       "        vertical-align: middle;\n",
       "    }\n",
       "\n",
       "    .dataframe tbody tr th {\n",
       "        vertical-align: top;\n",
       "    }\n",
       "\n",
       "    .dataframe thead th {\n",
       "        text-align: right;\n",
       "    }\n",
       "</style>\n",
       "<table border=\"1\" class=\"dataframe\">\n",
       "  <thead>\n",
       "    <tr style=\"text-align: right;\">\n",
       "      <th></th>\n",
       "      <th>Target</th>\n",
       "      <th>Model1</th>\n",
       "      <th>Model2</th>\n",
       "    </tr>\n",
       "  </thead>\n",
       "  <tbody>\n",
       "    <tr>\n",
       "      <th>0</th>\n",
       "      <td>26.06</td>\n",
       "      <td>31.003767</td>\n",
       "      <td>30.810116</td>\n",
       "    </tr>\n",
       "    <tr>\n",
       "      <th>1</th>\n",
       "      <td>10.35</td>\n",
       "      <td>6.224145</td>\n",
       "      <td>9.193416</td>\n",
       "    </tr>\n",
       "    <tr>\n",
       "      <th>2</th>\n",
       "      <td>74.99</td>\n",
       "      <td>46.759000</td>\n",
       "      <td>47.689472</td>\n",
       "    </tr>\n",
       "    <tr>\n",
       "      <th>3</th>\n",
       "      <td>59.00</td>\n",
       "      <td>46.259070</td>\n",
       "      <td>47.396310</td>\n",
       "    </tr>\n",
       "    <tr>\n",
       "      <th>4</th>\n",
       "      <td>52.12</td>\n",
       "      <td>39.185190</td>\n",
       "      <td>31.695920</td>\n",
       "    </tr>\n",
       "    <tr>\n",
       "      <th>...</th>\n",
       "      <td>...</td>\n",
       "      <td>...</td>\n",
       "      <td>...</td>\n",
       "    </tr>\n",
       "    <tr>\n",
       "      <th>98</th>\n",
       "      <td>33.40</td>\n",
       "      <td>28.163286</td>\n",
       "      <td>25.617887</td>\n",
       "    </tr>\n",
       "    <tr>\n",
       "      <th>99</th>\n",
       "      <td>39.27</td>\n",
       "      <td>23.509684</td>\n",
       "      <td>21.740128</td>\n",
       "    </tr>\n",
       "    <tr>\n",
       "      <th>100</th>\n",
       "      <td>18.13</td>\n",
       "      <td>9.876916</td>\n",
       "      <td>11.649975</td>\n",
       "    </tr>\n",
       "    <tr>\n",
       "      <th>101</th>\n",
       "      <td>33.01</td>\n",
       "      <td>22.899261</td>\n",
       "      <td>24.561768</td>\n",
       "    </tr>\n",
       "    <tr>\n",
       "      <th>102</th>\n",
       "      <td>33.72</td>\n",
       "      <td>29.311030</td>\n",
       "      <td>28.041595</td>\n",
       "    </tr>\n",
       "  </tbody>\n",
       "</table>\n",
       "<p>103 rows × 3 columns</p>\n",
       "</div>"
      ],
      "text/plain": [
       "     Target     Model1     Model2\n",
       "0     26.06  31.003767  30.810116\n",
       "1     10.35   6.224145   9.193416\n",
       "2     74.99  46.759000  47.689472\n",
       "3     59.00  46.259070  47.396310\n",
       "4     52.12  39.185190  31.695920\n",
       "..      ...        ...        ...\n",
       "98    33.40  28.163286  25.617887\n",
       "99    39.27  23.509684  21.740128\n",
       "100   18.13   9.876916  11.649975\n",
       "101   33.01  22.899261  24.561768\n",
       "102   33.72  29.311030  28.041595\n",
       "\n",
       "[103 rows x 3 columns]"
      ]
     },
     "execution_count": 92,
     "metadata": {},
     "output_type": "execute_result"
    }
   ],
   "source": [
    "pd.read_csv(\"regression.csv\")"
   ]
  }
 ],
 "metadata": {
  "colab": {
   "collapsed_sections": [],
   "name": "HW2-2_regression.ipynb",
   "provenance": []
  },
  "kernelspec": {
   "display_name": "Python 3",
   "language": "python",
   "name": "python3"
  },
  "language_info": {
   "codemirror_mode": {
    "name": "ipython",
    "version": 3
   },
   "file_extension": ".py",
   "mimetype": "text/x-python",
   "name": "python",
   "nbconvert_exporter": "python",
   "pygments_lexer": "ipython3",
   "version": "3.8.8"
  }
 },
 "nbformat": 4,
 "nbformat_minor": 4
}
